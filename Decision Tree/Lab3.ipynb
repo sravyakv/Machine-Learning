{
  "nbformat": 4,
  "nbformat_minor": 0,
  "metadata": {
    "colab": {
      "name": "Lab3.ipynb",
      "provenance": [],
      "collapsed_sections": []
    },
    "kernelspec": {
      "name": "python3",
      "display_name": "Python 3"
    },
    "language_info": {
      "name": "python"
    }
  },
  "cells": [
    {
      "cell_type": "code",
      "metadata": {
        "id": "BSh0Z2f0ieAY"
      },
      "source": [
        "import pandas as pd\n",
        "import math\n",
        "import numpy as np\n",
        "import pprint"
      ],
      "execution_count": 3,
      "outputs": []
    },
    {
      "cell_type": "code",
      "metadata": {
        "colab": {
          "base_uri": "https://localhost:8080/"
        },
        "id": "tnWLUMMIf1WK",
        "outputId": "41ccecac-0c82-4585-ace0-79e1e73b9148"
      },
      "source": [
        "data=pd.read_csv(\"id3_dataset.csv\")\n",
        "print(\"\\n Input Data Set is:\\n\", data)\n",
        "features = [f for f in data]\n",
        "features.remove(\"answer\")"
      ],
      "execution_count": 11,
      "outputs": [
        {
          "output_type": "stream",
          "text": [
            "\n",
            " Input Data Set is:\n",
            "      outlook temperature humidity    wind answer\n",
            "0      sunny         hot     high    weak     no\n",
            "1      sunny         hot     high  strong     no\n",
            "2   overcast         hot     high    weak    yes\n",
            "3       rain        mild     high    weak    yes\n",
            "4       rain        cool   normal    weak    yes\n",
            "5       rain        cool   normal  strong     no\n",
            "6   overcast        cool   normal  strong    yes\n",
            "7      sunny        mild     high    weak     no\n",
            "8      sunny        cool   normal    weak    yes\n",
            "9       rain        mild   normal    weak    yes\n",
            "10     sunny        mild   normal  strong    yes\n",
            "11  overcast        mild     high  strong    yes\n",
            "12  overcast         hot   normal    weak    yes\n",
            "13      rain        mild     high  strong     no\n"
          ],
          "name": "stdout"
        }
      ]
    },
    {
      "cell_type": "code",
      "metadata": {
        "id": "SKZ74H-Yf7PJ"
      },
      "source": [
        "class Node:\n",
        "    def __init__(self):\n",
        "        self.children = []\n",
        "        self.value = \"\"\n",
        "        self.isLeaf = False\n",
        "        self.pred = \"\""
      ],
      "execution_count": 12,
      "outputs": []
    },
    {
      "cell_type": "code",
      "metadata": {
        "id": "rv3QGtzrf92A"
      },
      "source": [
        "def find_entropy(examples):\n",
        "    pos = 0.0\n",
        "    neg = 0.0\n",
        "    for _, row in examples.iterrows():\n",
        "        if row[\"answer\"] == \"yes\":\n",
        "            pos += 1\n",
        "        else:\n",
        "            neg += 1\n",
        "    if pos == 0.0 or neg == 0.0:\n",
        "        return 0.0\n",
        "    else:\n",
        "        p = pos / (pos + neg)\n",
        "        n = neg / (pos + neg)\n",
        "        return -(p * math.log(p, 2) + n * math.log(n, 2))"
      ],
      "execution_count": 13,
      "outputs": []
    },
    {
      "cell_type": "code",
      "metadata": {
        "id": "AN2bhZ_JgAYw"
      },
      "source": [
        "def info_gain(examples, attr):\n",
        "    uniq = np.unique(examples[attr])\n",
        "    gain = find_entropy(examples)\n",
        "    for u in uniq:\n",
        "        subdata = examples[examples[attr] == u]\n",
        "        sub_e = find_entropy(subdata)\n",
        "        gain -= (float(len(subdata)) / float(len(examples))) * sub_e\n",
        "    return gain"
      ],
      "execution_count": 14,
      "outputs": []
    },
    {
      "cell_type": "code",
      "metadata": {
        "id": "cjD6euCAgDc4"
      },
      "source": [
        "def id3(examples, attrs):\n",
        "  root = Node()\n",
        "\n",
        "  max_gain = 0\n",
        "  max_feat = \"\"\n",
        "  for feature in attrs:\n",
        "      gain = info_gain(examples, feature)\n",
        "      if gain > max_gain:\n",
        "          max_gain = gain\n",
        "          max_feat = feature\n",
        "  root.value = max_feat\n",
        "  uniq = np.unique(examples[max_feat])\n",
        "  for u in uniq:\n",
        "      subdata = examples[examples[max_feat] == u]\n",
        "      if find_entropy(subdata) == 0.0:\n",
        "          newNode = Node()\n",
        "          newNode.isLeaf = True\n",
        "          newNode.value = u\n",
        "          newNode.pred = np.unique(subdata[\"answer\"])\n",
        "          root.children.append(newNode)\n",
        "      else:\n",
        "          tempNode = Node()\n",
        "          tempNode.value = u\n",
        "          new_attrs = attrs.copy()\n",
        "          new_attrs.remove(max_feat)\n",
        "          child = id3(subdata, new_attrs)\n",
        "          tempNode.children.append(child)\n",
        "          root.children.append(tempNode)\n",
        "  return root"
      ],
      "execution_count": 15,
      "outputs": []
    },
    {
      "cell_type": "code",
      "metadata": {
        "id": "HlOa2YzkgGmP"
      },
      "source": [
        "def printTree(root: Node, depth=0):\n",
        "    for i in range(depth):\n",
        "        print(\"\\t\", end=\"\")\n",
        "    print(root.value, end=\"\")\n",
        "    if root.isLeaf:\n",
        "        print(\" : \", root.pred)\n",
        "    print()\n",
        "    for child in root.children:\n",
        "        printTree(child, depth + 1)"
      ],
      "execution_count": 16,
      "outputs": []
    },
    {
      "cell_type": "code",
      "metadata": {
        "colab": {
          "base_uri": "https://localhost:8080/"
        },
        "id": "LXpggYoQgLzQ",
        "outputId": "9ce5f47b-fda3-43b8-f9fe-ea8e3a65c89f"
      },
      "source": [
        "root = id3(data, features)\n",
        "print(\"Final decision tree:\\n\")\n",
        "printTree(root)\n"
      ],
      "execution_count": 17,
      "outputs": [
        {
          "output_type": "stream",
          "text": [
            "Final decision tree:\n",
            "\n",
            "outlook\n",
            "\tovercast :  ['yes']\n",
            "\n",
            "\train\n",
            "\t\twind\n",
            "\t\t\tstrong :  ['no']\n",
            "\n",
            "\t\t\tweak :  ['yes']\n",
            "\n",
            "\tsunny\n",
            "\t\thumidity\n",
            "\t\t\thigh :  ['no']\n",
            "\n",
            "\t\t\tnormal :  ['yes']\n",
            "\n"
          ],
          "name": "stdout"
        }
      ]
    }
  ]
}