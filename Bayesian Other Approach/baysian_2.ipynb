{
  "nbformat": 4,
  "nbformat_minor": 0,
  "metadata": {
    "colab": {
      "name": "baysian.ipyb",
      "provenance": [],
      "collapsed_sections": []
    },
    "kernelspec": {
      "name": "python3",
      "display_name": "Python 3"
    },
    "language_info": {
      "name": "python"
    }
  },
  "cells": [
    {
      "cell_type": "code",
      "metadata": {
        "id": "tbA7thDfVtoK"
      },
      "source": [
        "import pandas as pd\n",
        "from sklearn.model_selection import train_test_split\n",
        "from sklearn.naive_bayes import GaussianNB\n",
        "from sklearn import metrics"
      ],
      "execution_count": 24,
      "outputs": []
    },
    {
      "cell_type": "code",
      "metadata": {
        "id": "lz12skokWqeV"
      },
      "source": [
        "df = pd.read_csv(\"abalone.csv\")\n",
        "feature_col_names = ['Length','Diameter','Height','Whole weight','Shucked weight','Viscera weight','Shell weight']\n",
        "predicted_class_names = ['Rings']"
      ],
      "execution_count": 25,
      "outputs": []
    },
    {
      "cell_type": "code",
      "metadata": {
        "id": "KFyEVA2aWzcm"
      },
      "source": [
        "X = df[feature_col_names].values \n",
        "y = df[predicted_class_names].values"
      ],
      "execution_count": 26,
      "outputs": []
    },
    {
      "cell_type": "code",
      "metadata": {
        "colab": {
          "base_uri": "https://localhost:8080/"
        },
        "id": "0KJfFtDzW1pM",
        "outputId": "24719baa-2acb-460d-85e8-b8e345baf58b"
      },
      "source": [
        "print(df.head)\n",
        "xtrain,xtest,ytrain,ytest=train_test_split(X,y,test_size=0.33)\n",
        "\n",
        "print ('\\n the total number of Training Data :',ytrain.shape)\n",
        "print ('\\n the total number of Test Data :',ytest.shape)"
      ],
      "execution_count": 27,
      "outputs": [
        {
          "output_type": "stream",
          "text": [
            "<bound method NDFrame.head of       Length  Diameter  Height  ...  Viscera weight  Shell weight  Rings\n",
            "0      0.455     0.365   0.095  ...          0.1010        0.1500     15\n",
            "1      0.350     0.265   0.090  ...          0.0485        0.0700      7\n",
            "2      0.530     0.420   0.135  ...          0.1415        0.2100      9\n",
            "3      0.440     0.365   0.125  ...          0.1140        0.1550     10\n",
            "4      0.330     0.255   0.080  ...          0.0395        0.0550      7\n",
            "...      ...       ...     ...  ...             ...           ...    ...\n",
            "4172   0.565     0.450   0.165  ...          0.2390        0.2490     11\n",
            "4173   0.590     0.440   0.135  ...          0.2145        0.2605     10\n",
            "4174   0.600     0.475   0.205  ...          0.2875        0.3080      9\n",
            "4175   0.625     0.485   0.150  ...          0.2610        0.2960     10\n",
            "4176   0.710     0.555   0.195  ...          0.3765        0.4950     12\n",
            "\n",
            "[4177 rows x 8 columns]>\n",
            "\n",
            " the total number of Training Data : (2798, 1)\n",
            "\n",
            " the total number of Test Data : (1379, 1)\n"
          ],
          "name": "stdout"
        }
      ]
    },
    {
      "cell_type": "code",
      "metadata": {
        "id": "Sq0meFKYW3z7"
      },
      "source": [
        "clf = GaussianNB().fit(xtrain,ytrain.ravel())\n",
        "predicted = clf.predict(xtest)\n",
        "predictTestData= clf.predict([[0.565,0.375,0.185,0.554,0.2135,0.201,0.25]])"
      ],
      "execution_count": 28,
      "outputs": []
    },
    {
      "cell_type": "code",
      "metadata": {
        "colab": {
          "base_uri": "https://localhost:8080/"
        },
        "id": "ALf8giOvW7IM",
        "outputId": "eb39ea9d-59c1-4928-f5e0-40bc2d84c024"
      },
      "source": [
        "print('\\n Confusion matrix')\n",
        "print(metrics.confusion_matrix(ytest,predicted))\n",
        "\n",
        "print('\\n Accuracy of the classifier is',metrics.accuracy_score(ytest,predicted))\n",
        "\n",
        "print('\\n The value of Precision', metrics.precision_score(ytest,predicted,average='micro'))\n",
        "\n",
        "print('\\n The value of Recall', metrics.recall_score(ytest,predicted,average='micro'))\n",
        "\n",
        "print(\"Predicted Value for individual Test Data:\", predictTestData)"
      ],
      "execution_count": 29,
      "outputs": [
        {
          "output_type": "stream",
          "text": [
            "\n",
            " Confusion matrix\n",
            "[[ 0  1  0  0  0  0  0  0  0  0  0  0  0  0  0  0  0  0  0  0  0  0  0  0\n",
            "   0]\n",
            " [ 0  2  2  0  0  0  0  0  0  0  0  0  0  0  0  0  0  0  0  0  0  0  0  0\n",
            "   0]\n",
            " [ 0  6  9  1  0  0  0  0  0  0  0  0  0  0  0  0  0  0  0  0  0  0  0  0\n",
            "   0]\n",
            " [ 0  2  6 10 10  2  0  0  0  0  0  0  0  0  0  0  0  0  0  0  0  0  0  0\n",
            "   0]\n",
            " [ 0  0  5 17 34 15  4  1  0  1  0  0  0  0  0  0  0  0  0  0  0  0  0  0\n",
            "   0]\n",
            " [ 0  0  1 18 54 36 35  5  1  0  0  0  0  0  0  0  0  0  0  0  0  0  0  0\n",
            "   0]\n",
            " [ 0  0  0  5 21 37 67 41 24  9  0  0  0  0  0  0  0  0  0  0  0  0  0  0\n",
            "   0]\n",
            " [ 0  0  0  2 13 25 64 62 42 33  0  0  0  0  0  0  0  0  0  0  0  0  0  0\n",
            "   0]\n",
            " [ 0  0  0  0 12  8 26 46 42 63  0  0  0  0  0  1  0  0  0  0  0  0  0  0\n",
            "   0]\n",
            " [ 0  0  0  2  5  3 21 24 29 69  0  0  0  0  0  0  0  0  2  0  0  0  0  0\n",
            "   0]\n",
            " [ 0  0  0  0  2  7 19 12  9 30  0  0  0  0  1  2  0  0  2  0  0  0  0  0\n",
            "   0]\n",
            " [ 0  0  0  1  2  4 13 11 12 15  0  0  0  0  0  1  0  0  2  0  0  0  0  0\n",
            "   0]\n",
            " [ 0  0  0  0  1  0 10 13 13 11  1  0  0  0  0  3  0  0  0  0  0  0  0  0\n",
            "   0]\n",
            " [ 0  0  0  0  0  1  8  5  9  7  0  0  0  0  0  1  0  0  2  0  0  0  0  0\n",
            "   0]\n",
            " [ 0  0  0  0  0  2  0  2  1  5  0  0  0  0  0  3  0  0  3  0  0  0  0  0\n",
            "   0]\n",
            " [ 0  0  0  0  0  0  1  4  3  4  0  0  0  0  0  0  0  0  0  0  0  0  0  0\n",
            "   0]\n",
            " [ 0  0  0  0  0  0  1  2  4  6  0  0  0  0  0  3  0  0  2  0  0  0  0  0\n",
            "   0]\n",
            " [ 0  0  0  0  0  0  0  1  2  7  0  0  0  0  0  0  0  0  0  0  0  0  0  0\n",
            "   0]\n",
            " [ 0  0  0  0  0  0  0  2  3  2  0  0  0  0  0  0  0  0  0  0  0  0  0  0\n",
            "   0]\n",
            " [ 0  0  0  0  0  0  0  0  0  2  0  0  0  0  0  0  0  0  1  0  0  0  0  0\n",
            "   0]\n",
            " [ 0  0  0  0  0  0  1  0  0  1  0  0  0  0  0  1  0  0  0  0  0  0  0  0\n",
            "   0]\n",
            " [ 0  0  0  0  0  0  0  1  0  0  0  0  0  0  0  0  0  0  0  0  0  0  0  0\n",
            "   0]\n",
            " [ 0  0  0  0  0  0  0  0  0  0  0  0  0  0  0  0  0  0  1  0  0  0  0  0\n",
            "   0]\n",
            " [ 0  0  0  0  0  0  0  0  0  0  0  0  0  0  0  1  0  0  0  0  0  0  0  0\n",
            "   0]\n",
            " [ 0  0  0  0  0  0  0  0  0  0  0  0  0  0  1  0  0  0  0  0  0  0  0  0\n",
            "   0]]\n",
            "\n",
            " Accuracy of the classifier is 0.24002900652646847\n",
            "\n",
            " The value of Precision 0.24002900652646847\n",
            "\n",
            " The value of Recall 0.24002900652646847\n",
            "Predicted Value for individual Test Data: [9]\n"
          ],
          "name": "stdout"
        }
      ]
    }
  ]
}