{
  "nbformat": 4,
  "nbformat_minor": 0,
  "metadata": {
    "colab": {
      "name": "Lab9.ipynb",
      "provenance": [],
      "collapsed_sections": []
    },
    "kernelspec": {
      "name": "python3",
      "display_name": "Python 3"
    },
    "language_info": {
      "name": "python"
    }
  },
  "cells": [
    {
      "cell_type": "code",
      "metadata": {
        "colab": {
          "base_uri": "https://localhost:8080/",
          "height": 674
        },
        "id": "On3JBdAXL2SP",
        "outputId": "87ae4136-309b-4c7d-cdca-57a624e39d36"
      },
      "source": [
        "import numpy as np\n",
        "import pandas as pd\n",
        "import matplotlib.pyplot as plt\n",
        "import seaborn as sns\n",
        "\n",
        "dataset = pd.read_csv('house_data.csv')\n",
        "\n",
        "Y = dataset[['price']]\n",
        "X = dataset.drop(['price', 'id', 'date'],  axis=1)\n",
        "x = X[['sqft_living']]; y = Y\n",
        "\n",
        "xg = x.values.reshape(-1,1); yg = y.values.reshape(-1,1)\n",
        "xg = np.concatenate((np.ones(len(x)).reshape(-1,1), x), axis=1)\n",
        "\n",
        "def computeCost(x, y, theta):\n",
        "    m = len(y)\n",
        "    h_x = x.dot(theta)\n",
        "    j = np.sum(np.square(h_x - y))*(1/(2*m))\n",
        "    return j\n",
        "\n",
        "def gradientDescent(x, y, theta, alpha, iteration):\n",
        "    print('Running Gradient Descent...')\n",
        "    j_hist = []\n",
        "    m = len(y)\n",
        "    for i in range(iteration):\n",
        "        j_hist.append(computeCost(x, y, theta))\n",
        "        h_x = x.dot(theta)\n",
        "        theta = theta - ((alpha/m) *((np.dot(x.T, (h_x-y) ))))\n",
        "        #theta[0] = theta[0] - ((alpha/m) *(np.sum((h_x-y))))\n",
        "    return theta, j_hist\n",
        "\n",
        "theta = np.zeros((2,1))\n",
        "iteration = 2000\n",
        "alpha = 0.001\n",
        "theta, cost = gradientDescent(xg, yg, theta, alpha, iteration)\n",
        "print('Theta found by Gradient Descent: slope = {} and intercept {}'.format(theta[1], theta[0]))\n",
        "\n",
        "plt.title('$\\\\theta_0$ = {} , $\\\\theta_1$ = {}'.format(theta[0], theta[1]))\n",
        "plt.scatter(x,y, marker='o', color='g')\n",
        "plt.plot(x,np.dot(x.values, theta.T))\n",
        "plt.show(); plt.plot(cost)\n",
        "plt.xlabel('No. of iterations'); plt.ylabel('Cost')\n"
      ],
      "execution_count": 4,
      "outputs": [
        {
          "output_type": "stream",
          "text": [
            "Running Gradient Descent...\n"
          ],
          "name": "stdout"
        },
        {
          "output_type": "stream",
          "text": [
            "/usr/local/lib/python3.7/dist-packages/ipykernel_launcher.py:18: RuntimeWarning: overflow encountered in square\n",
            "/usr/local/lib/python3.7/dist-packages/numpy/core/fromnumeric.py:87: RuntimeWarning: overflow encountered in reduce\n",
            "  return ufunc.reduce(obj, axis, dtype, out, **passkwargs)\n",
            "/usr/local/lib/python3.7/dist-packages/ipykernel_launcher.py:28: RuntimeWarning: invalid value encountered in subtract\n"
          ],
          "name": "stderr"
        },
        {
          "output_type": "stream",
          "text": [
            "Theta found by Gradient Descent: slope = [nan] and intercept [nan]\n"
          ],
          "name": "stdout"
        },
        {
          "output_type": "display_data",
          "data": {
            "image/png": "[encoded data removed]",
            "text/plain": [
              "<Figure size 432x288 with 1 Axes>"
            ]
          },
          "metadata": {
            "tags": [],
            "needs_background": "light"
          }
        },
        {
          "output_type": "execute_result",
          "data": {
            "text/plain": [
              "Text(0, 0.5, 'Cost')"
            ]
          },
          "metadata": {
            "tags": []
          },
          "execution_count": 4
        },
        {
          "output_type": "display_data",
          "data": {
            "image/png": "[encoded data removed]",
            "text/plain": [
              "<Figure size 432x288 with 1 Axes>"
            ]
          },
          "metadata": {
            "tags": [],
            "needs_background": "light"
          }
        }
      ]
    }
  ]
}